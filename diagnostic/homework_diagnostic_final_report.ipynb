{
 "cells": [
  {
   "cell_type": "markdown",
   "metadata": {},
   "source": [
    "## J. ADRIAN SANCHEZ-CASTRO"
   ]
  },
  {
   "cell_type": "markdown",
   "metadata": {},
   "source": [
    "# Problem 1: Data Acquisition and Analysis"
   ]
  },
  {
   "cell_type": "markdown",
   "metadata": {},
   "source": [
    "From the Chicago Data Portal, 4 data sets were downloaded. Each data set was from 311 calls request recieved between **March, 2016 and March, 2017** from the following types of calls requests :\n",
    "\n",
    "\n",
    "**1. Graffiti Removal**<br>\n",
    "**2. Vacant and Abandoned Buildings Reported**<br>\n",
    "**3. Potholes**<br>\n",
    "**4. Sanitation Code Complaints**<br>\n",
    "\n",
    "\n",
    "Although the data sets share address information that contains latitude longitude and zipcode data,  the data didn't have a **unique number** that would linked each dataset to each other by a direct relationship. Therefore, I analyzed the datasets **independently**, to see if there could **share any patterns** that amerged from the distinct geographic areas. \n",
    "\n",
    "Although we could combine data by latitude and longitude, it could be **too risky**, from my point of view, **to merge the data**, based on this information (although it can be done).\n",
    "\n",
    "The goal of this problem is to undertake an **Exploratory Data Analysis (EDA)**, with the objective to understand the data, and ^**explore possible hypothesis** for pattern behaviors that can be draft from some types of generalizations for **public policy strategies**. \n",
    "We are **not looking to prove causality** or be able to perform statistical inference due to the **lack of data size** that affects **representation** of the the data and the **type of computatational statistical analysis.**\n"
   ]
  },
  {
   "cell_type": "markdown",
   "metadata": {},
   "source": [
    "\n",
    "#### Summary statistics"
   ]
  },
  {
   "cell_type": "markdown",
   "metadata": {},
   "source": [
    "In the jupyter notebook in this folder (\"diagnostic_problem1_problem3.ipynb\") describes the different **\"data munging\"** that was needed in each data set to prepare it for the EDA.\n",
    "This involved:\n",
    "- data importation\n",
    "- data skimming\n",
    "- Drops of NA's values\n",
    "- Redifination of data column types\n",
    "- Drop/Merge of columns\n",
    "- New Variables creation"
   ]
  },
  {
   "cell_type": "markdown",
   "metadata": {},
   "source": [
    "As all the data was categoric variables, many of the statistics that could be performed are those so called non-parametric statistics, that pretty much underlies in frequencies and groupation of the variables."
   ]
  },
  {
   "cell_type": "markdown",
   "metadata": {},
   "source": [
    "First, I started to create frequencies of calls by zipcodes of the different types of calls as shown in the following figures:\n",
    "\n",
    "<img src=\"images/zipcode-graffiti.png\">\n",
    "<img src=\"images/zipcode-pothole.png\">\n",
    "<img src=\"images/zipcode-sanitation.png\">\n",
    "<img src=\"images/zipcode-vacant.png\">"
   ]
  },
  {
   "cell_type": "markdown",
   "metadata": {},
   "source": [
    "But this didn't tell us much. :(\n",
    "\n",
    "So I wanted to look it more geographically. So I plot the frequencies on Google Maps based on their Latitude and Longitude with an interactive map that you could zoom in and out to see in a heatmap the frequency of calls, as shown in the folling figures:\n",
    "\n",
    "-*****(these are images, if you would like to play around you must download google api key and run the the code of this project)\n",
    "\n",
    "## graffiti heatmap frequency map\n",
    "<img src=\"images/graffiti-map.png\">\n",
    "\n",
    "## pothole heatmap frequency map\n",
    "<img src=\"images/pothole-map.png\">\n",
    "\n",
    "## sanitation heatmap frequency map\n",
    "<img src=\"images/sanitation1-map.png\">\n",
    "\n",
    "## vacant heatmap frequency map\n",
    "<img src=\"images/vacant-map.png\">\n",
    "\n"
   ]
  },
  {
   "cell_type": "markdown",
   "metadata": {
    "hideCode": true,
    "hidePrompt": false
   },
   "source": [
    "We this information we could actually understand neighborhoods by looking at map and start to create decisions for  particular **hotspots** around the Chicago area such as the so called **social accupunture**.\n",
    "\n",
    "Also this kind of maps could be integrated as part of a **Data Product Architecture** that could be automatically  been seen at 311 services in real time and **identify and respond more quickly to specific events**. \n",
    "\n",
    "With this in mind, it could be great to see this type of pictures day by day, in a \"movie basis\" to **look how a particular spot could spread** and try to **look at contagions as social interactions.*"
   ]
  },
  {
   "cell_type": "markdown",
   "metadata": {},
   "source": [
    "#### What if we overlapp all the layers together? Can we have hot spots for particular policy intervantion, streets?\n",
    "\n",
    "YES WE CAN!!...\n",
    "\n",
    "<img src=\"images/general-11.png\">\n",
    "<img src=\"images/general-22.png\">"
   ]
  },
  {
   "cell_type": "markdown",
   "metadata": {},
   "source": [
    "## Response time by the city"
   ]
  },
  {
   "cell_type": "markdown",
   "metadata": {},
   "source": [
    "After this, I wanted to try to grasp a time pattern.\n",
    "To see if a particular type of call request was more frequently in some part of the year.\n",
    "\n",
    "As it is natural, the first to think is a plot distribution over the months in the year, but this type of trends is barely possible, therefore I look for a heatmap over. You could see more details and patterns from the same data\n",
    "\n",
    "## graffiti calls distribution over the year\n",
    "<img src=\"images/graffiti-dist-year.png\">\n",
    "<img src=\"images/graffiti-1.png\">\n",
    "<img src=\"images/graffiti-2.png\">\n",
    "\n",
    "## pothole calls distribution over the year\n",
    "<img src=\"images/pothole-dist-year.png\">\n",
    "<img src=\"images/pothole-1.png\">\n",
    "<img src=\"images/pothole-2.png\">\n",
    "\n",
    "## sanitation calls distribution over the year\n",
    "<img src=\"images/sanitation-dist-year.png\">\n",
    "<img src=\"images/sanitation-1.png\">\n",
    "<img src=\"images/sanitation-2.png\">\n",
    "\n",
    "## vacant calls distribution over the year\n",
    "<img src=\"images/vacant-dist-year.png\">\n",
    "<img src=\"images/vacant-1.png\">\n",
    "<img src=\"images/vacant-2.png\">"
   ]
  },
  {
   "cell_type": "markdown",
   "metadata": {},
   "source": [
    "### Comparison between data sets\n",
    "So, looking at this type of data we should emphasize that we can compare the intensity of the color tone over the data sets. This means, that for example, there are more calls from graffiti request than the calls that denounce vacant buildings in a year.\n",
    "\n",
    "\n",
    "### Outliers\n",
    "We are able to identify outliers in the data. We can spot particular days, weeks and months that are more \"hot\", more frequent of the events that are describing. \n",
    "\n",
    "### Year trend\n",
    "I can analyze a particular trend over the year for each particular type of request. That gives me to jump to new questions and new hypothesis \n",
    "\n",
    "- Why graffiti is \"well\" distributed all over the year?\n",
    "    Pretty much seemes to me that no matter what month you are, people always want to do graffiti (art)-denounce?\n",
    "\n",
    "- Why potholes are distributed in the in the first 6 months? Does this trend repeat each year? Is something related with climate/weather that are affecting the streets? Is it a matter of public policy? Can we get ready for pothole waves?\n",
    "\n",
    "- Why sanitation and vacant have high frequencies on summer?\n",
    "    It looks to me that sanitation problems arrives when summer comes in. More heat, more \"bacteria\", people is out of the streets. \n",
    "    What about vacancy?\n",
    "    I guess that people in winter, are inside buildings. For example homelesspeople are maybe in buildings and abandonment arises in summer, when they can spend the time outside?. \n",
    "    People moves out from buildings in summer? \n",
    "    Can we do policy about this?\n",
    "\n",
    "\n",
    "### Interesting 311 interaction on weekends\n",
    "   - What is interesting is to see weekends.... why there are no calls on weekeneds? \n",
    "   - People chill out on weekends and do not want to bother 311 on weekends?\n",
    "   - People do not make graffitis on weekends?\n"
   ]
  },
  {
   "cell_type": "markdown",
   "metadata": {},
   "source": [
    "## What was the responde time by the city for each calls?"
   ]
  },
  {
   "cell_type": "markdown",
   "metadata": {},
   "source": [
    "I computed the **elapsed time** to see how was the distribution of the response time, **from the day 311 recieved the call and when was the completion date**.\n",
    "The following are the boxplots (in the original jupyter notebook you could interact with the boxplot)\n",
    "\n",
    "## Graffiti boxplot of elapsed time\n",
    "<img src=\"images/graffiti-box.png\">\n",
    "\n",
    "## Pothole boxplot of elapsed time\n",
    "<img src=\"images/pothole-box.png\">\n",
    "\n",
    "## Sanitation boxplot of elapsed time\n",
    "<img src=\"images/sanitation-box.png\">\n",
    "\n"
   ]
  },
  {
   "cell_type": "markdown",
   "metadata": {},
   "source": [
    "We can see that for **graffiti** the response rate is most of the time very quick (it is said that quicker you \"clean\" the graffiti, less incentive graffiti painters have to make another)\n",
    "\n",
    "There are many **\"outliers\"** for the other type of services. It should be interesting to understand particular \"outlier\" cases to see how can better policies be implemente to complete tasks.\n",
    "\n",
    "**Vacant database**, as is data for denouncing vacant buildings does not have completion dates."
   ]
  },
  {
   "cell_type": "markdown",
   "metadata": {},
   "source": [
    "## Additional Data from the Census API"
   ]
  },
  {
   "cell_type": "markdown",
   "metadata": {},
   "source": [
    "Fortunately, we can access census data through the **Census API** based on different types geographic information.\n",
    "As my data set had **Longitude and Latitude coordinates**, I found that I could request **FIPS** (The FIPS county code is a five-digit Federal Information Processing Standards (FIPS) code (FIPS 6-4) which uniquely identifies counties and county equivalents in the United States, certain U.S. possessions, and certain freely associated states -Wikipedia 2017) through **HTTP API requests**.\n",
    "\n",
    "As **FIPS codes** have census geogrphic area location, I could **parse it** and go back to the API and **request specific information** regarding, **state, county, tracts and blocks** for particular data census. \n",
    "\n",
    "The idea was to gather additional data in which other kind of analysis could be performed. \n",
    "I decided an **income variable** could be interested to gather and compare zipcodes area with frequency and average income. So, for an each particular vacant building denounced I could find what was the average income. I wanted to see if there was some correaltion between the types of vacant zipcodes regardingaverage income.\n",
    "\n",
    "Do to time constraints and API constraints I decided to run just an analysis with the vacant dataset."
   ]
  },
  {
   "cell_type": "markdown",
   "metadata": {},
   "source": [
    "As the data from 311, refers to the Cook County (Chicago), Illinois, I wanted to see how was distribution of income of the population. I was expecting to see a webull -lognormal. This means that people must have at least very low income monthly, let's say 500 usd, with less than that you can not affor living. Then, many people have \"average\" income distribution, and a few have very high income. \n",
    "\n",
    "And actually my dataset shows that to the sample (reference by the vacant sample) of Chicago:\n",
    "\n",
    "<img src=\"images/income.png\">"
   ]
  },
  {
   "cell_type": "markdown",
   "metadata": {},
   "source": [
    "What about the distribution over Zipcodes?\n",
    "\n",
    "Are the zipcodes with more vacant calls with lower income?\n",
    "\n",
    "Let's look at the following table:\n",
    "<img src=\"images/income-vacant.png\">\n"
   ]
  },
  {
   "cell_type": "markdown",
   "metadata": {},
   "source": [
    "## Frequency of calls vs average income per Zipcode\n",
    "So, we can say that Zipcodes where they report more vacant buildings are the same zipcodes with more frequency of calls.\n",
    "\n",
    "IS THIS COINCIDENCE?\n",
    "\n",
    "Can we do that with public policy?"
   ]
  },
  {
   "cell_type": "code",
   "execution_count": null,
   "metadata": {
    "collapsed": true
   },
   "outputs": [],
   "source": []
  }
 ],
 "metadata": {
  "kernelspec": {
   "display_name": "Python 3",
   "language": "python",
   "name": "python3"
  },
  "language_info": {
   "codemirror_mode": {
    "name": "ipython",
    "version": 3
   },
   "file_extension": ".py",
   "mimetype": "text/x-python",
   "name": "python",
   "nbconvert_exporter": "python",
   "pygments_lexer": "ipython3",
   "version": "3.5.2"
  }
 },
 "nbformat": 4,
 "nbformat_minor": 2
}
