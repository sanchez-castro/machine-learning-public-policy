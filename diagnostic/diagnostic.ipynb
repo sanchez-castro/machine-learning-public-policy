{
 "cells": [
  {
   "cell_type": "markdown",
   "metadata": {},
   "source": [
    "# Machine Learning and Public Policy: Diagnostic"
   ]
  },
  {
   "cell_type": "markdown",
   "metadata": {},
   "source": [
    "### March 29th, 2017\n",
    "\n",
    "J. Adrian Sanchez Castro"
   ]
  },
  {
   "cell_type": "markdown",
   "metadata": {},
   "source": [
    "## Problem 1: Data Acquisition and Analysis"
   ]
  },
  {
   "cell_type": "code",
   "execution_count": 81,
   "metadata": {
    "collapsed": false
   },
   "outputs": [],
   "source": [
    "import pandas as pd\n",
    "import glob\n",
    "import matplotlib.pyplot as plt\n",
    "plt.style.use('ggplot')\n",
    "%matplotlib inline\n",
    "\n",
    "import numpy as np\n",
    "import seaborn as sns\n",
    "sns.set(color_codes=True)\n",
    "\n",
    "import numpy as np"
   ]
  },
  {
   "cell_type": "code",
   "execution_count": 82,
   "metadata": {
    "collapsed": false
   },
   "outputs": [
    {
     "name": "stdout",
     "output_type": "stream",
     "text": [
      "/Users/schzcas/Documents/github/machine-learning-public-policy/diagnostic\r\n"
     ]
    }
   ],
   "source": [
    "!pwd"
   ]
  },
  {
   "cell_type": "markdown",
   "metadata": {},
   "source": [
    "### Checkout number of columns and rows in files\""
   ]
  },
  {
   "cell_type": "code",
   "execution_count": 83,
   "metadata": {
    "collapsed": false
   },
   "outputs": [
    {
     "name": "stdout",
     "output_type": "stream",
     "text": [
      "/Users/schzcas/Documents/github/machine-learning-public-policy/diagnostic/data\r\n",
      "graffiti.csv\r\n",
      "pothole.csv\r\n",
      "sanitation.csv\r\n",
      "vacant.csv\r\n"
     ]
    }
   ],
   "source": [
    "!cd data && pwd && ls -1\n"
   ]
  },
  {
   "cell_type": "code",
   "execution_count": 84,
   "metadata": {
    "collapsed": false
   },
   "outputs": [
    {
     "name": "stdout",
     "output_type": "stream",
     "text": [
      "Number of Rows : 117037\r\n",
      "Number of Columns = 19\r\n"
     ]
    }
   ],
   "source": [
    "!awk -F, 'END {printf \"Number of Rows : %s\\nNumber of Columns = %s\\n\", NR, NF}' /Users/schzcas/Documents/github/machine-learning-public-policy/diagnostic/data/graffiti.csv"
   ]
  },
  {
   "cell_type": "code",
   "execution_count": 85,
   "metadata": {
    "collapsed": false
   },
   "outputs": [
    {
     "name": "stdout",
     "output_type": "stream",
     "text": [
      "Number of Rows : 55596\r\n",
      "Number of Columns = 20\r\n"
     ]
    }
   ],
   "source": [
    "!awk -F, 'END {printf \"Number of Rows : %s\\nNumber of Columns = %s\\n\", NR, NF}' /Users/schzcas/Documents/github/machine-learning-public-policy/diagnostic/data/pothole.csv"
   ]
  },
  {
   "cell_type": "code",
   "execution_count": 86,
   "metadata": {
    "collapsed": false
   },
   "outputs": [
    {
     "name": "stdout",
     "output_type": "stream",
     "text": [
      "Number of Rows : 21445\r\n",
      "Number of Columns = 17\r\n"
     ]
    }
   ],
   "source": [
    "!awk -F, 'END {printf \"Number of Rows : %s\\nNumber of Columns = %s\\n\", NR, NF}' /Users/schzcas/Documents/github/machine-learning-public-policy/diagnostic/data/sanitation.csv"
   ]
  },
  {
   "cell_type": "code",
   "execution_count": 87,
   "metadata": {
    "collapsed": false
   },
   "outputs": [
    {
     "name": "stdout",
     "output_type": "stream",
     "text": [
      "Number of Rows : 4758\r\n",
      "Number of Columns = 24\r\n"
     ]
    }
   ],
   "source": [
    "!awk -F, 'END {printf \"Number of Rows : %s\\nNumber of Columns = %s\\n\", NR, NF}' /Users/schzcas/Documents/github/machine-learning-public-policy/diagnostic/data/vacant.csv"
   ]
  },
  {
   "cell_type": "markdown",
   "metadata": {},
   "source": [
    "## Pandas importation"
   ]
  },
  {
   "cell_type": "code",
   "execution_count": 88,
   "metadata": {
    "collapsed": false
   },
   "outputs": [
    {
     "data": {
      "text/plain": [
       "['/Users/schzcas/Documents/github/machine-learning-public-policy/diagnostic/data/graffiti.csv',\n",
       " '/Users/schzcas/Documents/github/machine-learning-public-policy/diagnostic/data/pothole.csv',\n",
       " '/Users/schzcas/Documents/github/machine-learning-public-policy/diagnostic/data/sanitation.csv',\n",
       " '/Users/schzcas/Documents/github/machine-learning-public-policy/diagnostic/data/vacant.csv']"
      ]
     },
     "execution_count": 88,
     "metadata": {},
     "output_type": "execute_result"
    }
   ],
   "source": [
    "path ='/Users/schzcas/Documents/github/machine-learning-public-policy/diagnostic/data'\n",
    "csv_files = glob.glob(path + \"/*.csv\")    \n",
    "csv_files\n"
   ]
  },
  {
   "cell_type": "code",
   "execution_count": 89,
   "metadata": {
    "collapsed": false
   },
   "outputs": [],
   "source": [
    "graffiti = pd.read_csv('/Users/schzcas/Documents/github/machine-learning-public-policy/diagnostic/data/graffiti.csv')\n",
    "pothole = pd.read_csv('/Users/schzcas/Documents/github/machine-learning-public-policy/diagnostic/data/pothole.csv')\n",
    "sanitation = pd.read_csv('/Users/schzcas/Documents/github/machine-learning-public-policy/diagnostic/data/sanitation.csv')\n",
    "vacant = pd.read_csv('/Users/schzcas/Documents/github/machine-learning-public-policy/diagnostic/data/vacant.csv')\n"
   ]
  },
  {
   "cell_type": "markdown",
   "metadata": {},
   "source": [
    "# GRAFFITI dataset"
   ]
  },
  {
   "cell_type": "markdown",
   "metadata": {},
   "source": [
    "### checkout very quickly columns and data before importation"
   ]
  },
  {
   "cell_type": "code",
   "execution_count": 90,
   "metadata": {
    "collapsed": false
   },
   "outputs": [
    {
     "name": "stdout",
     "output_type": "stream",
     "text": [
      "Creation Date,Status,Completion Date,Service Request Number,Type of Service Request,What Type of Surface is the Graffiti on?,Where is the Graffiti located?,Street Address,ZIP Code,X Coordinate,Y Coordinate,Ward,Police District,Community Area,SSA,Latitude,Longitude,Location\r\n",
      "03/30/2016,Completed,03/30/2016,16-02134145,Graffiti Removal,Glass,Front,531 N CLARK ST,60654,1175441.77867511,1903914.93022029,42,18,8,,41.89170969838417,-87.63098218718851,\"(41.89170969838417, -87.63098218718851)\"\r\n"
     ]
    }
   ],
   "source": [
    "!cd data && head -n 2 graffiti.csv"
   ]
  },
  {
   "cell_type": "code",
   "execution_count": 91,
   "metadata": {
    "collapsed": false
   },
   "outputs": [
    {
     "data": {
      "text/plain": [
       "Creation Date                                object\n",
       "Status                                       object\n",
       "Completion Date                              object\n",
       "Service Request Number                       object\n",
       "Type of Service Request                      object\n",
       "What Type of Surface is the Graffiti on?     object\n",
       "Where is the Graffiti located?               object\n",
       "Street Address                               object\n",
       "ZIP Code                                    float64\n",
       "X Coordinate                                float64\n",
       "Y Coordinate                                float64\n",
       "Ward                                        float64\n",
       "Police District                             float64\n",
       "Community Area                              float64\n",
       "SSA                                         float64\n",
       "Latitude                                    float64\n",
       "Longitude                                   float64\n",
       "Location                                     object\n",
       "dtype: object"
      ]
     },
     "execution_count": 91,
     "metadata": {},
     "output_type": "execute_result"
    }
   ],
   "source": [
    "graffiti.dtypes"
   ]
  },
  {
   "cell_type": "code",
   "execution_count": 125,
   "metadata": {
    "collapsed": false
   },
   "outputs": [
    {
     "data": {
      "text/plain": [
       "(31527, 12)"
      ]
     },
     "execution_count": 125,
     "metadata": {},
     "output_type": "execute_result"
    }
   ],
   "source": [
    "graffiti.shape"
   ]
  },
  {
   "cell_type": "markdown",
   "metadata": {},
   "source": [
    "### Let's throw out na's"
   ]
  },
  {
   "cell_type": "code",
   "execution_count": 98,
   "metadata": {
    "collapsed": false
   },
   "outputs": [],
   "source": [
    "graffiti = graffiti.dropna()"
   ]
  },
  {
   "cell_type": "code",
   "execution_count": 99,
   "metadata": {
    "collapsed": false
   },
   "outputs": [
    {
     "data": {
      "text/plain": [
       "(31527, 18)"
      ]
     },
     "execution_count": 99,
     "metadata": {},
     "output_type": "execute_result"
    }
   ],
   "source": [
    "graffiti.shape"
   ]
  },
  {
   "cell_type": "markdown",
   "metadata": {},
   "source": [
    "### Change type of columns to categoric variables"
   ]
  },
  {
   "cell_type": "code",
   "execution_count": 100,
   "metadata": {
    "collapsed": true
   },
   "outputs": [],
   "source": [
    "graffiti['location-tuple'] = list(zip(graffiti.Latitude, graffiti.Longitude))"
   ]
  },
  {
   "cell_type": "code",
   "execution_count": 101,
   "metadata": {
    "collapsed": false
   },
   "outputs": [],
   "source": [
    "float64= graffiti.dtypes[graffiti.dtypes == \"float64\"].index\n",
    "\n",
    "for i in float64:\n",
    "    graffiti[i] = graffiti[i].astype(str)"
   ]
  },
  {
   "cell_type": "markdown",
   "metadata": {},
   "source": [
    "### Check range of \"Creation date\" of one year"
   ]
  },
  {
   "cell_type": "code",
   "execution_count": 102,
   "metadata": {
    "collapsed": false
   },
   "outputs": [
    {
     "data": {
      "text/html": [
       "<div>\n",
       "<table border=\"1\" class=\"dataframe\">\n",
       "  <thead>\n",
       "    <tr style=\"text-align: right;\">\n",
       "      <th></th>\n",
       "      <th>Creation Date</th>\n",
       "      <th>Status</th>\n",
       "      <th>Completion Date</th>\n",
       "      <th>Service Request Number</th>\n",
       "      <th>Type of Service Request</th>\n",
       "      <th>What Type of Surface is the Graffiti on?</th>\n",
       "      <th>Where is the Graffiti located?</th>\n",
       "      <th>Street Address</th>\n",
       "      <th>ZIP Code</th>\n",
       "      <th>X Coordinate</th>\n",
       "      <th>Y Coordinate</th>\n",
       "      <th>Ward</th>\n",
       "      <th>Police District</th>\n",
       "      <th>Community Area</th>\n",
       "      <th>SSA</th>\n",
       "      <th>Latitude</th>\n",
       "      <th>Longitude</th>\n",
       "      <th>Location</th>\n",
       "      <th>location-tuple</th>\n",
       "    </tr>\n",
       "  </thead>\n",
       "  <tbody>\n",
       "    <tr>\n",
       "      <th>5</th>\n",
       "      <td>03/30/2016</td>\n",
       "      <td>Completed</td>\n",
       "      <td>03/30/2016</td>\n",
       "      <td>16-02134350</td>\n",
       "      <td>Graffiti Removal</td>\n",
       "      <td>Brick - Unpainted</td>\n",
       "      <td>Front</td>\n",
       "      <td>1417 W CHICAGO AVE</td>\n",
       "      <td>60642.0</td>\n",
       "      <td>1166719.71988</td>\n",
       "      <td>1905455.26337</td>\n",
       "      <td>27.0</td>\n",
       "      <td>12.0</td>\n",
       "      <td>24.0</td>\n",
       "      <td>29.0</td>\n",
       "      <td>41.8960278329</td>\n",
       "      <td>-87.6631098124</td>\n",
       "      <td>(41.896027832938266, -87.66310981240575)</td>\n",
       "      <td>(41.8960278329, -87.6631098124)</td>\n",
       "    </tr>\n",
       "    <tr>\n",
       "      <th>32</th>\n",
       "      <td>03/30/2016</td>\n",
       "      <td>Completed</td>\n",
       "      <td>03/30/2016</td>\n",
       "      <td>16-02131169</td>\n",
       "      <td>Graffiti Removal</td>\n",
       "      <td>Metal - Painted</td>\n",
       "      <td>Front</td>\n",
       "      <td>4630 S KEDZIE AVE</td>\n",
       "      <td>60632.0</td>\n",
       "      <td>1155814.04228</td>\n",
       "      <td>1873758.97273</td>\n",
       "      <td>14.0</td>\n",
       "      <td>8.0</td>\n",
       "      <td>58.0</td>\n",
       "      <td>39.0</td>\n",
       "      <td>41.8089957582</td>\n",
       "      <td>-87.7041566003</td>\n",
       "      <td>(41.80899575815653, -87.7041566002847)</td>\n",
       "      <td>(41.8089957582, -87.7041566003)</td>\n",
       "    </tr>\n",
       "    <tr>\n",
       "      <th>33</th>\n",
       "      <td>03/30/2016</td>\n",
       "      <td>Completed</td>\n",
       "      <td>03/30/2016</td>\n",
       "      <td>16-02131193</td>\n",
       "      <td>Graffiti Removal</td>\n",
       "      <td>Metal - Painted</td>\n",
       "      <td>Front</td>\n",
       "      <td>7060 S KEDZIE AVE</td>\n",
       "      <td>60629.0</td>\n",
       "      <td>1156260.267</td>\n",
       "      <td>1857544.49411</td>\n",
       "      <td>17.0</td>\n",
       "      <td>8.0</td>\n",
       "      <td>66.0</td>\n",
       "      <td>3.0</td>\n",
       "      <td>41.7644253127</td>\n",
       "      <td>-87.7029602973</td>\n",
       "      <td>(41.764425312726615, -87.70296029726426)</td>\n",
       "      <td>(41.7644253127, -87.7029602973)</td>\n",
       "    </tr>\n",
       "    <tr>\n",
       "      <th>47</th>\n",
       "      <td>03/30/2016</td>\n",
       "      <td>Completed</td>\n",
       "      <td>03/30/2016</td>\n",
       "      <td>16-02131914</td>\n",
       "      <td>Graffiti Removal</td>\n",
       "      <td>Brick - Painted</td>\n",
       "      <td>Side</td>\n",
       "      <td>3211 W 43RD ST</td>\n",
       "      <td>60632.0</td>\n",
       "      <td>1155610.53451</td>\n",
       "      <td>1875957.41617</td>\n",
       "      <td>14.0</td>\n",
       "      <td>8.0</td>\n",
       "      <td>58.0</td>\n",
       "      <td>39.0</td>\n",
       "      <td>41.8153275085</td>\n",
       "      <td>-87.7047168123</td>\n",
       "      <td>(41.81532750851539, -87.70471681229976)</td>\n",
       "      <td>(41.8153275085, -87.7047168123)</td>\n",
       "    </tr>\n",
       "    <tr>\n",
       "      <th>48</th>\n",
       "      <td>03/30/2016</td>\n",
       "      <td>Completed</td>\n",
       "      <td>03/30/2016</td>\n",
       "      <td>16-02132022</td>\n",
       "      <td>Graffiti Removal</td>\n",
       "      <td>Wood - Painted</td>\n",
       "      <td>Garage</td>\n",
       "      <td>4301 S SAWYER AVE</td>\n",
       "      <td>60632.0</td>\n",
       "      <td>1155399.83979</td>\n",
       "      <td>1875950.64279</td>\n",
       "      <td>14.0</td>\n",
       "      <td>8.0</td>\n",
       "      <td>58.0</td>\n",
       "      <td>39.0</td>\n",
       "      <td>41.8153344507</td>\n",
       "      <td>-87.7053371483</td>\n",
       "      <td>(41.81533445067502, -87.70533714831333)</td>\n",
       "      <td>(41.8153344507, -87.7053371483)</td>\n",
       "    </tr>\n",
       "  </tbody>\n",
       "</table>\n",
       "</div>"
      ],
      "text/plain": [
       "   Creation Date     Status Completion Date Service Request Number  \\\n",
       "5     03/30/2016  Completed      03/30/2016            16-02134350   \n",
       "32    03/30/2016  Completed      03/30/2016            16-02131169   \n",
       "33    03/30/2016  Completed      03/30/2016            16-02131193   \n",
       "47    03/30/2016  Completed      03/30/2016            16-02131914   \n",
       "48    03/30/2016  Completed      03/30/2016            16-02132022   \n",
       "\n",
       "   Type of Service Request What Type of Surface is the Graffiti on?  \\\n",
       "5         Graffiti Removal                        Brick - Unpainted   \n",
       "32        Graffiti Removal                          Metal - Painted   \n",
       "33        Graffiti Removal                          Metal - Painted   \n",
       "47        Graffiti Removal                          Brick - Painted   \n",
       "48        Graffiti Removal                           Wood - Painted   \n",
       "\n",
       "   Where is the Graffiti located?      Street Address ZIP Code   X Coordinate  \\\n",
       "5                           Front  1417 W CHICAGO AVE  60642.0  1166719.71988   \n",
       "32                          Front   4630 S KEDZIE AVE  60632.0  1155814.04228   \n",
       "33                          Front   7060 S KEDZIE AVE  60629.0    1156260.267   \n",
       "47                           Side      3211 W 43RD ST  60632.0  1155610.53451   \n",
       "48                         Garage   4301 S SAWYER AVE  60632.0  1155399.83979   \n",
       "\n",
       "     Y Coordinate  Ward Police District Community Area   SSA       Latitude  \\\n",
       "5   1905455.26337  27.0            12.0           24.0  29.0  41.8960278329   \n",
       "32  1873758.97273  14.0             8.0           58.0  39.0  41.8089957582   \n",
       "33  1857544.49411  17.0             8.0           66.0   3.0  41.7644253127   \n",
       "47  1875957.41617  14.0             8.0           58.0  39.0  41.8153275085   \n",
       "48  1875950.64279  14.0             8.0           58.0  39.0  41.8153344507   \n",
       "\n",
       "         Longitude                                  Location  \\\n",
       "5   -87.6631098124  (41.896027832938266, -87.66310981240575)   \n",
       "32  -87.7041566003    (41.80899575815653, -87.7041566002847)   \n",
       "33  -87.7029602973  (41.764425312726615, -87.70296029726426)   \n",
       "47  -87.7047168123   (41.81532750851539, -87.70471681229976)   \n",
       "48  -87.7053371483   (41.81533445067502, -87.70533714831333)   \n",
       "\n",
       "                     location-tuple  \n",
       "5   (41.8960278329, -87.6631098124)  \n",
       "32  (41.8089957582, -87.7041566003)  \n",
       "33  (41.7644253127, -87.7029602973)  \n",
       "47  (41.8153275085, -87.7047168123)  \n",
       "48  (41.8153344507, -87.7053371483)  "
      ]
     },
     "execution_count": 102,
     "metadata": {},
     "output_type": "execute_result"
    }
   ],
   "source": [
    "graffiti.head()"
   ]
  },
  {
   "cell_type": "code",
   "execution_count": 103,
   "metadata": {
    "collapsed": false
   },
   "outputs": [
    {
     "data": {
      "text/html": [
       "<div>\n",
       "<table border=\"1\" class=\"dataframe\">\n",
       "  <thead>\n",
       "    <tr style=\"text-align: right;\">\n",
       "      <th></th>\n",
       "      <th>Creation Date</th>\n",
       "      <th>Status</th>\n",
       "      <th>Completion Date</th>\n",
       "      <th>Service Request Number</th>\n",
       "      <th>Type of Service Request</th>\n",
       "      <th>What Type of Surface is the Graffiti on?</th>\n",
       "      <th>Where is the Graffiti located?</th>\n",
       "      <th>Street Address</th>\n",
       "      <th>ZIP Code</th>\n",
       "      <th>X Coordinate</th>\n",
       "      <th>Y Coordinate</th>\n",
       "      <th>Ward</th>\n",
       "      <th>Police District</th>\n",
       "      <th>Community Area</th>\n",
       "      <th>SSA</th>\n",
       "      <th>Latitude</th>\n",
       "      <th>Longitude</th>\n",
       "      <th>Location</th>\n",
       "      <th>location-tuple</th>\n",
       "    </tr>\n",
       "  </thead>\n",
       "  <tbody>\n",
       "    <tr>\n",
       "      <th>117031</th>\n",
       "      <td>03/28/2017</td>\n",
       "      <td>Completed</td>\n",
       "      <td>03/28/2017</td>\n",
       "      <td>17-01734474</td>\n",
       "      <td>Graffiti Removal</td>\n",
       "      <td>Brick - Painted</td>\n",
       "      <td>Front</td>\n",
       "      <td>5730 N WINTHROP AVE</td>\n",
       "      <td>60660.0</td>\n",
       "      <td>1167830.33953</td>\n",
       "      <td>1938225.0743</td>\n",
       "      <td>48.0</td>\n",
       "      <td>20.0</td>\n",
       "      <td>77.0</td>\n",
       "      <td>26.0</td>\n",
       "      <td>41.986420969</td>\n",
       "      <td>-87.6582503361</td>\n",
       "      <td>(41.98642096903268, -87.6582503361241)</td>\n",
       "      <td>(41.986420969, -87.6582503361)</td>\n",
       "    </tr>\n",
       "    <tr>\n",
       "      <th>117032</th>\n",
       "      <td>03/28/2017</td>\n",
       "      <td>Completed</td>\n",
       "      <td>03/28/2017</td>\n",
       "      <td>17-01734478</td>\n",
       "      <td>Graffiti Removal</td>\n",
       "      <td>Brick - Painted</td>\n",
       "      <td>Front</td>\n",
       "      <td>5732 N WINTHROP AVE</td>\n",
       "      <td>60660.0</td>\n",
       "      <td>1167829.83953</td>\n",
       "      <td>1938238.4743</td>\n",
       "      <td>48.0</td>\n",
       "      <td>20.0</td>\n",
       "      <td>77.0</td>\n",
       "      <td>26.0</td>\n",
       "      <td>41.9864775834</td>\n",
       "      <td>-87.6582521015</td>\n",
       "      <td>(41.98647758340539, -87.65825210150162)</td>\n",
       "      <td>(41.9864775834, -87.6582521015)</td>\n",
       "    </tr>\n",
       "    <tr>\n",
       "      <th>117033</th>\n",
       "      <td>03/28/2017</td>\n",
       "      <td>Completed</td>\n",
       "      <td>03/28/2017</td>\n",
       "      <td>17-01734481</td>\n",
       "      <td>Graffiti Removal</td>\n",
       "      <td>Brick - Painted</td>\n",
       "      <td>Front</td>\n",
       "      <td>5734 N WINTHROP AVE</td>\n",
       "      <td>60660.0</td>\n",
       "      <td>1167829.43953</td>\n",
       "      <td>1938251.9743</td>\n",
       "      <td>48.0</td>\n",
       "      <td>20.0</td>\n",
       "      <td>77.0</td>\n",
       "      <td>26.0</td>\n",
       "      <td>41.9865341978</td>\n",
       "      <td>-87.6582538669</td>\n",
       "      <td>(41.98653419777755, -87.65825386688162)</td>\n",
       "      <td>(41.9865341978, -87.6582538669)</td>\n",
       "    </tr>\n",
       "    <tr>\n",
       "      <th>117034</th>\n",
       "      <td>03/28/2017</td>\n",
       "      <td>Completed</td>\n",
       "      <td>03/28/2017</td>\n",
       "      <td>17-01734483</td>\n",
       "      <td>Graffiti Removal</td>\n",
       "      <td>Brick - Painted</td>\n",
       "      <td>Front</td>\n",
       "      <td>5736 N WINTHROP AVE</td>\n",
       "      <td>60660.0</td>\n",
       "      <td>1167829.03953</td>\n",
       "      <td>1938265.3743</td>\n",
       "      <td>48.0</td>\n",
       "      <td>20.0</td>\n",
       "      <td>77.0</td>\n",
       "      <td>26.0</td>\n",
       "      <td>41.9865908121</td>\n",
       "      <td>-87.6582556323</td>\n",
       "      <td>(41.986590812149146, -87.65825563226409)</td>\n",
       "      <td>(41.9865908121, -87.6582556323)</td>\n",
       "    </tr>\n",
       "    <tr>\n",
       "      <th>117035</th>\n",
       "      <td>03/28/2017</td>\n",
       "      <td>Completed</td>\n",
       "      <td>03/28/2017</td>\n",
       "      <td>17-01734488</td>\n",
       "      <td>Graffiti Removal</td>\n",
       "      <td>Brick - Painted</td>\n",
       "      <td>Front</td>\n",
       "      <td>5738 N WINTHROP AVE</td>\n",
       "      <td>60660.0</td>\n",
       "      <td>1167828.63953</td>\n",
       "      <td>1938278.7743</td>\n",
       "      <td>48.0</td>\n",
       "      <td>20.0</td>\n",
       "      <td>77.0</td>\n",
       "      <td>26.0</td>\n",
       "      <td>41.9866474265</td>\n",
       "      <td>-87.6582573976</td>\n",
       "      <td>(41.98664742652018, -87.65825739764902)</td>\n",
       "      <td>(41.9866474265, -87.6582573976)</td>\n",
       "    </tr>\n",
       "  </tbody>\n",
       "</table>\n",
       "</div>"
      ],
      "text/plain": [
       "       Creation Date     Status Completion Date Service Request Number  \\\n",
       "117031    03/28/2017  Completed      03/28/2017            17-01734474   \n",
       "117032    03/28/2017  Completed      03/28/2017            17-01734478   \n",
       "117033    03/28/2017  Completed      03/28/2017            17-01734481   \n",
       "117034    03/28/2017  Completed      03/28/2017            17-01734483   \n",
       "117035    03/28/2017  Completed      03/28/2017            17-01734488   \n",
       "\n",
       "       Type of Service Request What Type of Surface is the Graffiti on?  \\\n",
       "117031        Graffiti Removal                          Brick - Painted   \n",
       "117032        Graffiti Removal                          Brick - Painted   \n",
       "117033        Graffiti Removal                          Brick - Painted   \n",
       "117034        Graffiti Removal                          Brick - Painted   \n",
       "117035        Graffiti Removal                          Brick - Painted   \n",
       "\n",
       "       Where is the Graffiti located?       Street Address ZIP Code  \\\n",
       "117031                          Front  5730 N WINTHROP AVE  60660.0   \n",
       "117032                          Front  5732 N WINTHROP AVE  60660.0   \n",
       "117033                          Front  5734 N WINTHROP AVE  60660.0   \n",
       "117034                          Front  5736 N WINTHROP AVE  60660.0   \n",
       "117035                          Front  5738 N WINTHROP AVE  60660.0   \n",
       "\n",
       "         X Coordinate  Y Coordinate  Ward Police District Community Area  \\\n",
       "117031  1167830.33953  1938225.0743  48.0            20.0           77.0   \n",
       "117032  1167829.83953  1938238.4743  48.0            20.0           77.0   \n",
       "117033  1167829.43953  1938251.9743  48.0            20.0           77.0   \n",
       "117034  1167829.03953  1938265.3743  48.0            20.0           77.0   \n",
       "117035  1167828.63953  1938278.7743  48.0            20.0           77.0   \n",
       "\n",
       "         SSA       Latitude       Longitude  \\\n",
       "117031  26.0   41.986420969  -87.6582503361   \n",
       "117032  26.0  41.9864775834  -87.6582521015   \n",
       "117033  26.0  41.9865341978  -87.6582538669   \n",
       "117034  26.0  41.9865908121  -87.6582556323   \n",
       "117035  26.0  41.9866474265  -87.6582573976   \n",
       "\n",
       "                                        Location  \\\n",
       "117031    (41.98642096903268, -87.6582503361241)   \n",
       "117032   (41.98647758340539, -87.65825210150162)   \n",
       "117033   (41.98653419777755, -87.65825386688162)   \n",
       "117034  (41.986590812149146, -87.65825563226409)   \n",
       "117035   (41.98664742652018, -87.65825739764902)   \n",
       "\n",
       "                         location-tuple  \n",
       "117031   (41.986420969, -87.6582503361)  \n",
       "117032  (41.9864775834, -87.6582521015)  \n",
       "117033  (41.9865341978, -87.6582538669)  \n",
       "117034  (41.9865908121, -87.6582556323)  \n",
       "117035  (41.9866474265, -87.6582573976)  "
      ]
     },
     "execution_count": 103,
     "metadata": {},
     "output_type": "execute_result"
    }
   ],
   "source": [
    "graffiti.tail()"
   ]
  },
  {
   "cell_type": "markdown",
   "metadata": {},
   "source": [
    "### List of Columns"
   ]
  },
  {
   "cell_type": "code",
   "execution_count": 126,
   "metadata": {
    "collapsed": false
   },
   "outputs": [
    {
     "data": {
      "text/plain": [
       "['Creation Date',\n",
       " 'Status',\n",
       " 'Completion Date',\n",
       " 'Type of Service Request',\n",
       " 'What Type of Surface is the Graffiti on?',\n",
       " 'Where is the Graffiti located?',\n",
       " 'Street Address',\n",
       " 'ZIP Code',\n",
       " 'Latitude',\n",
       " 'Longitude',\n",
       " 'Location',\n",
       " 'location-tuple']"
      ]
     },
     "execution_count": 126,
     "metadata": {},
     "output_type": "execute_result"
    }
   ],
   "source": [
    "list(graffiti)"
   ]
  },
  {
   "cell_type": "code",
   "execution_count": 105,
   "metadata": {
    "collapsed": false
   },
   "outputs": [
    {
     "data": {
      "text/html": [
       "<div>\n",
       "<table border=\"1\" class=\"dataframe\">\n",
       "  <thead>\n",
       "    <tr style=\"text-align: right;\">\n",
       "      <th></th>\n",
       "      <th>Creation Date</th>\n",
       "      <th>Status</th>\n",
       "      <th>Completion Date</th>\n",
       "      <th>Type of Service Request</th>\n",
       "      <th>What Type of Surface is the Graffiti on?</th>\n",
       "      <th>Where is the Graffiti located?</th>\n",
       "      <th>Street Address</th>\n",
       "      <th>ZIP Code</th>\n",
       "      <th>Latitude</th>\n",
       "      <th>Longitude</th>\n",
       "      <th>Location</th>\n",
       "      <th>location-tuple</th>\n",
       "    </tr>\n",
       "  </thead>\n",
       "  <tbody>\n",
       "    <tr>\n",
       "      <th>5</th>\n",
       "      <td>03/30/2016</td>\n",
       "      <td>Completed</td>\n",
       "      <td>03/30/2016</td>\n",
       "      <td>Graffiti Removal</td>\n",
       "      <td>Brick - Unpainted</td>\n",
       "      <td>Front</td>\n",
       "      <td>1417 W CHICAGO AVE</td>\n",
       "      <td>60642.0</td>\n",
       "      <td>41.8960278329</td>\n",
       "      <td>-87.6631098124</td>\n",
       "      <td>(41.896027832938266, -87.66310981240575)</td>\n",
       "      <td>(41.8960278329, -87.6631098124)</td>\n",
       "    </tr>\n",
       "    <tr>\n",
       "      <th>32</th>\n",
       "      <td>03/30/2016</td>\n",
       "      <td>Completed</td>\n",
       "      <td>03/30/2016</td>\n",
       "      <td>Graffiti Removal</td>\n",
       "      <td>Metal - Painted</td>\n",
       "      <td>Front</td>\n",
       "      <td>4630 S KEDZIE AVE</td>\n",
       "      <td>60632.0</td>\n",
       "      <td>41.8089957582</td>\n",
       "      <td>-87.7041566003</td>\n",
       "      <td>(41.80899575815653, -87.7041566002847)</td>\n",
       "      <td>(41.8089957582, -87.7041566003)</td>\n",
       "    </tr>\n",
       "    <tr>\n",
       "      <th>33</th>\n",
       "      <td>03/30/2016</td>\n",
       "      <td>Completed</td>\n",
       "      <td>03/30/2016</td>\n",
       "      <td>Graffiti Removal</td>\n",
       "      <td>Metal - Painted</td>\n",
       "      <td>Front</td>\n",
       "      <td>7060 S KEDZIE AVE</td>\n",
       "      <td>60629.0</td>\n",
       "      <td>41.7644253127</td>\n",
       "      <td>-87.7029602973</td>\n",
       "      <td>(41.764425312726615, -87.70296029726426)</td>\n",
       "      <td>(41.7644253127, -87.7029602973)</td>\n",
       "    </tr>\n",
       "    <tr>\n",
       "      <th>47</th>\n",
       "      <td>03/30/2016</td>\n",
       "      <td>Completed</td>\n",
       "      <td>03/30/2016</td>\n",
       "      <td>Graffiti Removal</td>\n",
       "      <td>Brick - Painted</td>\n",
       "      <td>Side</td>\n",
       "      <td>3211 W 43RD ST</td>\n",
       "      <td>60632.0</td>\n",
       "      <td>41.8153275085</td>\n",
       "      <td>-87.7047168123</td>\n",
       "      <td>(41.81532750851539, -87.70471681229976)</td>\n",
       "      <td>(41.8153275085, -87.7047168123)</td>\n",
       "    </tr>\n",
       "    <tr>\n",
       "      <th>48</th>\n",
       "      <td>03/30/2016</td>\n",
       "      <td>Completed</td>\n",
       "      <td>03/30/2016</td>\n",
       "      <td>Graffiti Removal</td>\n",
       "      <td>Wood - Painted</td>\n",
       "      <td>Garage</td>\n",
       "      <td>4301 S SAWYER AVE</td>\n",
       "      <td>60632.0</td>\n",
       "      <td>41.8153344507</td>\n",
       "      <td>-87.7053371483</td>\n",
       "      <td>(41.81533445067502, -87.70533714831333)</td>\n",
       "      <td>(41.8153344507, -87.7053371483)</td>\n",
       "    </tr>\n",
       "  </tbody>\n",
       "</table>\n",
       "</div>"
      ],
      "text/plain": [
       "   Creation Date     Status Completion Date Type of Service Request  \\\n",
       "5     03/30/2016  Completed      03/30/2016        Graffiti Removal   \n",
       "32    03/30/2016  Completed      03/30/2016        Graffiti Removal   \n",
       "33    03/30/2016  Completed      03/30/2016        Graffiti Removal   \n",
       "47    03/30/2016  Completed      03/30/2016        Graffiti Removal   \n",
       "48    03/30/2016  Completed      03/30/2016        Graffiti Removal   \n",
       "\n",
       "   What Type of Surface is the Graffiti on? Where is the Graffiti located?  \\\n",
       "5                         Brick - Unpainted                          Front   \n",
       "32                          Metal - Painted                          Front   \n",
       "33                          Metal - Painted                          Front   \n",
       "47                          Brick - Painted                           Side   \n",
       "48                           Wood - Painted                         Garage   \n",
       "\n",
       "        Street Address ZIP Code       Latitude       Longitude  \\\n",
       "5   1417 W CHICAGO AVE  60642.0  41.8960278329  -87.6631098124   \n",
       "32   4630 S KEDZIE AVE  60632.0  41.8089957582  -87.7041566003   \n",
       "33   7060 S KEDZIE AVE  60629.0  41.7644253127  -87.7029602973   \n",
       "47      3211 W 43RD ST  60632.0  41.8153275085  -87.7047168123   \n",
       "48   4301 S SAWYER AVE  60632.0  41.8153344507  -87.7053371483   \n",
       "\n",
       "                                    Location                   location-tuple  \n",
       "5   (41.896027832938266, -87.66310981240575)  (41.8960278329, -87.6631098124)  \n",
       "32    (41.80899575815653, -87.7041566002847)  (41.8089957582, -87.7041566003)  \n",
       "33  (41.764425312726615, -87.70296029726426)  (41.7644253127, -87.7029602973)  \n",
       "47   (41.81532750851539, -87.70471681229976)  (41.8153275085, -87.7047168123)  \n",
       "48   (41.81533445067502, -87.70533714831333)  (41.8153344507, -87.7053371483)  "
      ]
     },
     "execution_count": 105,
     "metadata": {},
     "output_type": "execute_result"
    }
   ],
   "source": [
    "columns_to_erase = ['Service Request Number','X Coordinate', 'Y Coordinate','Ward','Police District','Community Area','SSA']\n",
    "\n",
    "for i in columns_to_erase:\n",
    "    del graffiti[i]  # delete columns\n",
    "graffiti.head()"
   ]
  },
  {
   "cell_type": "code",
   "execution_count": 106,
   "metadata": {
    "collapsed": false
   },
   "outputs": [],
   "source": [
    "new_zip = np.array([zipcode[0:5] for zipcode in graffiti['ZIP Code']])\n",
    "graffiti['ZIP Code'] = new_zip"
   ]
  },
  {
   "cell_type": "markdown",
   "metadata": {},
   "source": [
    "### Description of categorical variables\n"
   ]
  },
  {
   "cell_type": "code",
   "execution_count": 107,
   "metadata": {
    "collapsed": false
   },
   "outputs": [
    {
     "data": {
      "text/html": [
       "<div>\n",
       "<table border=\"1\" class=\"dataframe\">\n",
       "  <thead>\n",
       "    <tr style=\"text-align: right;\">\n",
       "      <th></th>\n",
       "      <th>Creation Date</th>\n",
       "      <th>Status</th>\n",
       "      <th>Completion Date</th>\n",
       "      <th>Type of Service Request</th>\n",
       "      <th>What Type of Surface is the Graffiti on?</th>\n",
       "      <th>Where is the Graffiti located?</th>\n",
       "      <th>Street Address</th>\n",
       "      <th>ZIP Code</th>\n",
       "      <th>Latitude</th>\n",
       "      <th>Longitude</th>\n",
       "      <th>Location</th>\n",
       "      <th>location-tuple</th>\n",
       "    </tr>\n",
       "  </thead>\n",
       "  <tbody>\n",
       "    <tr>\n",
       "      <th>count</th>\n",
       "      <td>31527</td>\n",
       "      <td>31527</td>\n",
       "      <td>31527</td>\n",
       "      <td>31527</td>\n",
       "      <td>31527</td>\n",
       "      <td>31527</td>\n",
       "      <td>31527</td>\n",
       "      <td>31527</td>\n",
       "      <td>31527</td>\n",
       "      <td>31527</td>\n",
       "      <td>31527</td>\n",
       "      <td>31527</td>\n",
       "    </tr>\n",
       "    <tr>\n",
       "      <th>unique</th>\n",
       "      <td>364</td>\n",
       "      <td>2</td>\n",
       "      <td>252</td>\n",
       "      <td>1</td>\n",
       "      <td>17</td>\n",
       "      <td>20</td>\n",
       "      <td>17772</td>\n",
       "      <td>44</td>\n",
       "      <td>17471</td>\n",
       "      <td>17471</td>\n",
       "      <td>17471</td>\n",
       "      <td>17471</td>\n",
       "    </tr>\n",
       "    <tr>\n",
       "      <th>top</th>\n",
       "      <td>06/07/2016</td>\n",
       "      <td>Completed</td>\n",
       "      <td>05/02/2016</td>\n",
       "      <td>Graffiti Removal</td>\n",
       "      <td>Metal - Painted</td>\n",
       "      <td>Front</td>\n",
       "      <td>1348 N MILWAUKEE AVE</td>\n",
       "      <td>60622</td>\n",
       "      <td>41.906236605</td>\n",
       "      <td>-87.6712133484</td>\n",
       "      <td>(41.90623660501344, -87.67121334839456)</td>\n",
       "      <td>(41.906236605, -87.6712133484)</td>\n",
       "    </tr>\n",
       "    <tr>\n",
       "      <th>freq</th>\n",
       "      <td>233</td>\n",
       "      <td>30434</td>\n",
       "      <td>250</td>\n",
       "      <td>31527</td>\n",
       "      <td>11367</td>\n",
       "      <td>10466</td>\n",
       "      <td>43</td>\n",
       "      <td>3843</td>\n",
       "      <td>43</td>\n",
       "      <td>43</td>\n",
       "      <td>43</td>\n",
       "      <td>43</td>\n",
       "    </tr>\n",
       "  </tbody>\n",
       "</table>\n",
       "</div>"
      ],
      "text/plain": [
       "       Creation Date     Status Completion Date Type of Service Request  \\\n",
       "count          31527      31527           31527                   31527   \n",
       "unique           364          2             252                       1   \n",
       "top       06/07/2016  Completed      05/02/2016        Graffiti Removal   \n",
       "freq             233      30434             250                   31527   \n",
       "\n",
       "       What Type of Surface is the Graffiti on?  \\\n",
       "count                                     31527   \n",
       "unique                                       17   \n",
       "top                             Metal - Painted   \n",
       "freq                                      11367   \n",
       "\n",
       "       Where is the Graffiti located?        Street Address ZIP Code  \\\n",
       "count                           31527                 31527    31527   \n",
       "unique                             20                 17772       44   \n",
       "top                             Front  1348 N MILWAUKEE AVE    60622   \n",
       "freq                            10466                    43     3843   \n",
       "\n",
       "            Latitude       Longitude                                 Location  \\\n",
       "count          31527           31527                                    31527   \n",
       "unique         17471           17471                                    17471   \n",
       "top     41.906236605  -87.6712133484  (41.90623660501344, -87.67121334839456)   \n",
       "freq              43              43                                       43   \n",
       "\n",
       "                        location-tuple  \n",
       "count                            31527  \n",
       "unique                           17471  \n",
       "top     (41.906236605, -87.6712133484)  \n",
       "freq                                43  "
      ]
     },
     "execution_count": 107,
     "metadata": {},
     "output_type": "execute_result"
    }
   ],
   "source": [
    "categorical = graffiti.dtypes[graffiti.dtypes == \"object\"].index\n",
    "graffiti[categorical].describe()"
   ]
  },
  {
   "cell_type": "markdown",
   "metadata": {
    "collapsed": true
   },
   "source": [
    "### unique values "
   ]
  },
  {
   "cell_type": "code",
   "execution_count": 108,
   "metadata": {
    "collapsed": false
   },
   "outputs": [
    {
     "data": {
      "text/plain": [
       "array(['Brick - Unpainted', 'Metal - Painted', 'Brick - Painted',\n",
       "       'Wood - Painted', 'Metal - Unpainted', 'Marble/Granite',\n",
       "       'Cement (Sidewalk, Alley, Wall, Curb)', 'Limestone', 'Stucco',\n",
       "       'Vinyl Siding', 'Other/Unknown Surface', 'Other / Unknown Surface',\n",
       "       'Asphalt', 'Aluminum Siding', 'Glass', 'Wood - Unpainted', 'Tree'], dtype=object)"
      ]
     },
     "execution_count": 108,
     "metadata": {},
     "output_type": "execute_result"
    }
   ],
   "source": [
    "graffiti['What Type of Surface is the Graffiti on?'].unique()"
   ]
  },
  {
   "cell_type": "code",
   "execution_count": 109,
   "metadata": {
    "collapsed": false
   },
   "outputs": [
    {
     "data": {
      "text/plain": [
       "array(['Front', 'Side', 'Garage', 'Rear', 'Bench', 'Door',\n",
       "       'Traffic Control Box', 'Pole', 'Sign', 'Newspaper Box',\n",
       "       'Garbage Cart', 'Alley', 'Fence', 'Dumpster', 'Mail Box', 'Viaduct',\n",
       "       'Overpass', 'Phone', 'Hydrant', 'Express Way Job'], dtype=object)"
      ]
     },
     "execution_count": 109,
     "metadata": {},
     "output_type": "execute_result"
    }
   ],
   "source": [
    "graffiti['Where is the Graffiti located?'].unique()"
   ]
  },
  {
   "cell_type": "markdown",
   "metadata": {},
   "source": [
    "### Let's see where are the most request zipcodes zones'"
   ]
  },
  {
   "cell_type": "code",
   "execution_count": 110,
   "metadata": {
    "collapsed": false
   },
   "outputs": [
    {
     "data": {
      "text/plain": [
       "array(['60642', '60632', '60629', '60647', '60622', '60628', '60657',\n",
       "       '60625', '60613', '60623', '60618', '60640', '60609', '60659',\n",
       "       '60645', '60643', '60614', '60619', '60634', '60626', '60602',\n",
       "       '60617', '60601', '60649', '60608', '60660', '60641', '60653',\n",
       "       '60615', '60612', '60620', '60637', '60636', '60655', '60610',\n",
       "       '60607', '60646', '60661', '60624', '60651', '60603', '60605',\n",
       "       '60604', '60638'], dtype=object)"
      ]
     },
     "execution_count": 110,
     "metadata": {},
     "output_type": "execute_result"
    }
   ],
   "source": [
    "graffiti['ZIP Code'].unique()"
   ]
  },
  {
   "cell_type": "code",
   "execution_count": 111,
   "metadata": {
    "collapsed": true
   },
   "outputs": [],
   "source": [
    "sns.set_context(\"paper\")"
   ]
  },
  {
   "cell_type": "code",
   "execution_count": 112,
   "metadata": {
    "collapsed": false
   },
   "outputs": [
    {
     "data": {
      "text/plain": [
       "<matplotlib.text.Text at 0x10ce8fcc0>"
      ]
     },
     "execution_count": 112,
     "metadata": {},
     "output_type": "execute_result"
    },
    {
     "data": {
      "image/png": "[encoded data removed]",
      "text/plain": [
       "<matplotlib.figure.Figure at 0x10ce943c8>"
      ]
     },
     "metadata": {},
     "output_type": "display_data"
    }
   ],
   "source": [
    "plt.figure(figsize=(16, 12))\n",
    "g = sns.countplot(y='ZIP Code', saturation= 1, data=graffiti)\n",
    "plt.title('Distribution of Graffiti Removal Request by Zip Code')\n",
    "plt.xlabel('Request')"
   ]
  },
  {
   "cell_type": "code",
   "execution_count": 113,
   "metadata": {
    "collapsed": false
   },
   "outputs": [
    {
     "data": {
      "text/plain": [
       "60622    3843\n",
       "60629    3154\n",
       "60625    2886\n",
       "60657    2822\n",
       "60632    2536\n",
       "60618    2386\n",
       "60647    2230\n",
       "60640    2114\n",
       "60613    2022\n",
       "60614    1135\n",
       "Name: ZIP Code, dtype: int64"
      ]
     },
     "execution_count": 113,
     "metadata": {},
     "output_type": "execute_result"
    }
   ],
   "source": [
    "histo_graffiti = graffiti['ZIP Code'].value_counts()\n",
    "histo_graffiti.iloc[:10]"
   ]
  },
  {
   "cell_type": "markdown",
   "metadata": {},
   "source": [
    "## Heatmap of the Graffiti removal request"
   ]
  },
  {
   "cell_type": "code",
   "execution_count": 123,
   "metadata": {
    "collapsed": false
   },
   "outputs": [],
   "source": [
    "import os\n",
    "import gmaps"
   ]
  },
  {
   "cell_type": "code",
   "execution_count": 124,
   "metadata": {
    "collapsed": false
   },
   "outputs": [],
   "source": [
    "gmaps.configure(api_key='*')"
   ]
  },
  {
   "cell_type": "code",
   "execution_count": 116,
   "metadata": {
    "collapsed": true
   },
   "outputs": [],
   "source": [
    "import gmaps.datasets"
   ]
  },
  {
   "cell_type": "code",
   "execution_count": 117,
   "metadata": {
    "collapsed": false
   },
   "outputs": [],
   "source": [
    "ubicacion = list(graffiti['location-tuple'])"
   ]
  },
  {
   "cell_type": "code",
   "execution_count": 118,
   "metadata": {
    "collapsed": false
   },
   "outputs": [
    {
     "data": {
      "text/plain": [
       "(41.896027832938266, -87.663109812405764)"
      ]
     },
     "execution_count": 118,
     "metadata": {},
     "output_type": "execute_result"
    }
   ],
   "source": [
    "ubicacion[0]"
   ]
  },
  {
   "cell_type": "code",
   "execution_count": 119,
   "metadata": {
    "collapsed": false
   },
   "outputs": [],
   "source": [
    "m = gmaps.Map()\n",
    "m.add_layer(gmaps.heatmap_layer(ubicacion))\n",
    "m"
   ]
  },
  {
   "cell_type": "markdown",
   "metadata": {},
   "source": [
    "## What type of location do the \"bad guys\" makes graffitis?"
   ]
  },
  {
   "cell_type": "code",
   "execution_count": 121,
   "metadata": {
    "collapsed": false,
    "scrolled": true
   },
   "outputs": [
    {
     "data": {
      "text/plain": [
       "Front                  10466\n",
       "Side                    4413\n",
       "Pole                    2701\n",
       "Rear                    2394\n",
       "Dumpster                1858\n",
       "Alley                   1821\n",
       "Traffic Control Box     1528\n",
       "Door                    1383\n",
       "Garage                  1306\n",
       "Sign                     838\n",
       "Name: Where is the Graffiti located?, dtype: int64"
      ]
     },
     "execution_count": 121,
     "metadata": {},
     "output_type": "execute_result"
    }
   ],
   "source": [
    "histo_place = graffiti['Where is the Graffiti located?'].value_counts()\n",
    "histo_place.iloc[:10]"
   ]
  },
  {
   "cell_type": "markdown",
   "metadata": {},
   "source": [
    "## In What type of surface?"
   ]
  },
  {
   "cell_type": "code",
   "execution_count": 122,
   "metadata": {
    "collapsed": false,
    "scrolled": true
   },
   "outputs": [
    {
     "data": {
      "text/plain": [
       "Metal - Painted                         11367\n",
       "Brick - Painted                          5983\n",
       "Brick - Unpainted                        5575\n",
       "Wood - Painted                           1781\n",
       "Cement (Sidewalk, Alley, Wall, Curb)     1756\n",
       "Metal - Unpainted                        1256\n",
       "Glass                                    1047\n",
       "Aluminum Siding                           703\n",
       "Other/Unknown Surface                     540\n",
       "Other / Unknown Surface                   457\n",
       "Name: What Type of Surface is the Graffiti on?, dtype: int64"
      ]
     },
     "execution_count": 122,
     "metadata": {},
     "output_type": "execute_result"
    }
   ],
   "source": [
    "histo_place = graffiti['What Type of Surface is the Graffiti on?'].value_counts()\n",
    "histo_place.iloc[:10]"
   ]
  }
 ],
 "metadata": {
  "kernelspec": {
   "display_name": "Python 3",
   "language": "python",
   "name": "python3"
  },
  "language_info": {
   "codemirror_mode": {
    "name": "ipython",
    "version": 3
   },
   "file_extension": ".py",
   "mimetype": "text/x-python",
   "name": "python",
   "nbconvert_exporter": "python",
   "pygments_lexer": "ipython3",
   "version": "3.5.2"
  },
  "widgets": {
   "state": {
    "8adf898de5bb429c986eff21d11ff1ca": {
     "views": [
      {
       "cell_index": 47
      }
     ]
    }
   },
   "version": "1.2.0"
  }
 },
 "nbformat": 4,
 "nbformat_minor": 2
}
